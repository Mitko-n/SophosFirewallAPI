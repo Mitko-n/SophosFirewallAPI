{
 "cells": [
  {
   "cell_type": "code",
   "execution_count": 3,
   "metadata": {},
   "outputs": [],
   "source": [
    "from SophosFirewallAPI import Firewall, EQ, NOT, LIKE\n",
    "import json\n",
    "\n",
    "# Firewall Credentials\n",
    "# JSON File\n",
    "# {\n",
    "#     \"firewall_ip\": \"<FIREWALL_IP_ADDRESS>\",\n",
    "#     \"username\": \"<USER_NAME>\",\n",
    "#     \"port\" : \"<FIREWALL_PORT>\"\n",
    "#     \"password\": \"<PASSWORD>\",\n",
    "#      \"certificate_verify\": <true|false>,\n",
    "#     \"password_encrypted\": <true|false>\n",
    "# }\n",
    "\n",
    "firewall_info = json.load(open(\"Credentials\\\\firewall_access.json\"))\n",
    "username = firewall_info[\"username\"]\n",
    "password = firewall_info[\"password\"]\n",
    "firewall_ip = firewall_info[\"firewall_ip\"]\n",
    "port = firewall_info[\"port\"]\n",
    "certificate_verify = firewall_info[\"certificate_verify\"]\n",
    "password_encrypted = firewall_info[\"password_encrypted\"]\n",
    "\n",
    "\n",
    "def dict_print(data_dict):\n",
    "    \"\"\"Converts a dictionary to a JSON string with indentation and prints it.\"\"\"\n",
    "    # Convert dictionary to JSON string with indentation\n",
    "    json_string = json.dumps(data_dict, indent=4)\n",
    "\n",
    "    # Print the JSON string\n",
    "    print(json_string)\n",
    "\n",
    "\n",
    "firewall = Firewall(username, password, firewall_ip, port, certificate_verify=certificate_verify, password_encrypted=password_encrypted)"
   ]
  },
  {
   "cell_type": "code",
   "execution_count": null,
   "metadata": {},
   "outputs": [],
   "source": [
    "entity_type = \"IPHost\"\n",
    "entity_name = \"Internet\"\n",
    "\n",
    "print(f\"\\nREAD :: {entity_type} entity with {entity_name} in the 'Name'\")\n",
    "response = firewall.read(entity_type, entity_name)  # LIKE\n",
    "print(f\"Status: {response['status']} | Message: {response['message']} | Data: {response['data'] if response['data'] else 'No data available'}\")\n",
    "for index, item in enumerate(response[\"data\"], start=1):\n",
    "    print(f\"{index:03}: {item}\")"
   ]
  }
 ],
 "metadata": {
  "kernelspec": {
   "display_name": "Python 3",
   "language": "python",
   "name": "python3"
  },
  "language_info": {
   "codemirror_mode": {
    "name": "ipython",
    "version": 3
   },
   "file_extension": ".py",
   "mimetype": "text/x-python",
   "name": "python",
   "nbconvert_exporter": "python",
   "pygments_lexer": "ipython3",
   "version": "3.12.6"
  }
 },
 "nbformat": 4,
 "nbformat_minor": 2
}
