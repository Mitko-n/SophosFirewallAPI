{
 "cells": [
  {
   "cell_type": "code",
   "execution_count": 9,
   "metadata": {},
   "outputs": [],
   "source": [
    "from SophosFirewallAPI import Firewall, EQ, NOT, LIKE\n",
    "import json\n",
    "\n",
    "# Firewall Credentials\n",
    "# JSON File\n",
    "# {\n",
    "#     \"firewall_ip\": \"<FIREWALL_IP_ADDRESS>\",\n",
    "#     \"username\": \"<USER_NAME>\",\n",
    "#     \"port\" : \"<FIREWALL_PORT>\"\n",
    "#     \"password\": \"<PASSWORD>\",\n",
    "#      \"certificate_verify\": <true|false>,\n",
    "#     \"password_encrypted\": <true|false>\n",
    "# }\n",
    "\n",
    "firewall_info = json.load(open(\"Credentials\\\\firewall_access.json\"))\n",
    "username = firewall_info[\"username\"]\n",
    "password = firewall_info[\"password\"]\n",
    "firewall_ip = firewall_info[\"firewall_ip\"]\n",
    "port = firewall_info[\"port\"]\n",
    "certificate_verify = firewall_info[\"certificate_verify\"]\n",
    "password_encrypted = firewall_info[\"password_encrypted\"]\n",
    "\n",
    "\n",
    "def dict_print(data_dict):\n",
    "    \"\"\"Converts a dictionary to a JSON string with indentation and prints it.\"\"\"\n",
    "    # Convert dictionary to JSON string with indentation\n",
    "    json_string = json.dumps(data_dict, indent=4)\n",
    "\n",
    "    # Print the JSON string\n",
    "    print(json_string)\n",
    "\n",
    "\n",
    "firewall = Firewall(username, password, firewall_ip, port, certificate_verify=certificate_verify, password_encrypted=password_encrypted)"
   ]
  },
  {
   "cell_type": "code",
   "execution_count": 10,
   "metadata": {},
   "outputs": [],
   "source": [
    "from SophosFirewallAPI import Firewall, EQ, NOT, LIKE\n",
    "import json\n",
    "\n",
    "\n",
    "def dict_print(data_dict):\n",
    "    \"\"\"Converts a dictionary to a JSON string with indentation and prints it.\"\"\"\n",
    "    # Convert dictionary to JSON string with indentation\n",
    "    json_string = json.dumps(data_dict, indent=4)\n",
    "\n",
    "    # Print the JSON string\n",
    "    print(json_string)\n",
    "\n",
    "\n",
    "firewall = Firewall(\"admin\", \"Sophos1985\", \"172.16.17.30\")"
   ]
  },
  {
   "cell_type": "code",
   "execution_count": null,
   "metadata": {},
   "outputs": [],
   "source": [
    "firewall.close()"
   ]
  },
  {
   "cell_type": "code",
   "execution_count": null,
   "metadata": {},
   "outputs": [],
   "source": [
    "entity_type = \"IPHost\"\n",
    "entity_name = \"RW6\"\n",
    "\n",
    "print(f\"\\nREAD :: {entity_type} entity with {entity_name} in the 'Name'\")\n",
    "response = firewall.read(entity_type, entity_name, LIKE)  # LIKE\n",
    "print(f\"Status: {response['status']} | Message: {response['message']} | Data: {response['data'] if response['data'] else 'No data available'}\")\n",
    "for index, item in enumerate(response[\"data\"], start=1):\n",
    "    print(f\"{index:03}: {item}\")"
   ]
  },
  {
   "cell_type": "code",
   "execution_count": null,
   "metadata": {},
   "outputs": [],
   "source": [
    "entity_type = \"IPHost\"\n",
    "entity_name = \"##ALL_RW\"  # Cannot delete\n",
    "\n",
    "print(f\"DELETE :: {entity_type} entity with {entity_name} in the 'Name'\")\n",
    "response = firewall.delete(entity_type, entity_name)\n",
    "print(f\"Status: {response['status']} | Message: {response['message']} | Data: {response['data'] if response['data'] else 'No data available'}\")"
   ]
  },
  {
   "cell_type": "code",
   "execution_count": null,
   "metadata": {},
   "outputs": [],
   "source": [
    "entity_type = \"IPHost\"\n",
    "\n",
    "response = firewall.read(entity_type, \"Internet\", LIKE)\n",
    "print(f\"Status: {response['status']} | Message: {response['message']} | Data: {response['data'] if response['data'] else 'No data available'}\")\n",
    "for index, item in enumerate(response[\"data\"], start=1):\n",
    "    print(f\"{index:002}: {item}\")\n",
    "\n",
    "\n",
    "response = firewall.read(\"SystemServices\")\n",
    "print(f\"Status: {response['status']} | Message: {response['message']} | Data: {response['data'] if response['data'] else 'No data available'}\")\n",
    "dict_print(response[\"data\"])"
   ]
  },
  {
   "cell_type": "code",
   "execution_count": null,
   "metadata": {},
   "outputs": [],
   "source": [
    "entity_type = \"IPHostGroup\"\n",
    "\n",
    "response = firewall.read(entity_type)\n",
    "\n",
    "print(f\"Status: {response['status']} | Message: {response['message']} | Data: {response['data'] if response['data'] else 'No data available'}\")\n",
    "\n",
    "for index, item in enumerate(response[\"data\"], start=1):\n",
    "    print(f\"{index:002}: {item}\")"
   ]
  },
  {
   "cell_type": "code",
   "execution_count": null,
   "metadata": {},
   "outputs": [],
   "source": [
    "entity_type = \"PatternDownload\"\n",
    "\n",
    "response = firewall.read(entity_type)\n",
    "\n",
    "print(f\"Status: {response['status']} | Message: {response['message']} | Data: {response['data'] if response['data'] else 'No data available'}\")\n",
    "\n",
    "print(json.dumps(response[\"data\"], indent=4))"
   ]
  },
  {
   "cell_type": "code",
   "execution_count": null,
   "metadata": {},
   "outputs": [],
   "source": [
    "# CREATE ENTITY with entity_type \"IPHost\" and entity_data for \"HostType\" Network\n",
    "entity_name = \"Internal Network\"\n",
    "\n",
    "entity_type = \"IPHost\"\n",
    "entity_data = {\n",
    "    \"Name\": entity_name,\n",
    "    \"IPFamily\": \"IPv4\",\n",
    "    \"HostType\": \"Network\",\n",
    "    \"IPAddress\": \"192.168.96.0\",\n",
    "    \"Subnet\": \"255.255.255.0\",\n",
    "}\n",
    "firewall.create(entity_type, entity_data)"
   ]
  },
  {
   "cell_type": "code",
   "execution_count": null,
   "metadata": {},
   "outputs": [],
   "source": [
    "# Print result\n",
    "entity_type = \"IPHost\"\n",
    "entity_name = \"Internal Network\"\n",
    "firewall.read(entity_type, entity_name, EQ)"
   ]
  },
  {
   "cell_type": "code",
   "execution_count": null,
   "metadata": {},
   "outputs": [],
   "source": [
    "# UPDATE ENTITY with entity_type \"IPHost\" and entity_data for \"HostType\" Network\n",
    "entity_name = \"Internal Network\"\n",
    "\n",
    "entity_type = \"IPHost\"\n",
    "entity_data = {\n",
    "    \"Name\": entity_name,\n",
    "    \"IPFamily\": \"IPv4\",\n",
    "    \"HostType\": \"Network\",\n",
    "    \"IPAddress\": \"192.168.0.0\",\n",
    "    \"Subnet\": \"255.255.0.0\",\n",
    "}\n",
    "firewall.update(entity_type, entity_data)"
   ]
  },
  {
   "cell_type": "code",
   "execution_count": null,
   "metadata": {},
   "outputs": [],
   "source": [
    "# Print result\n",
    "entity_type = \"IPHost\"\n",
    "entity_name = \"Internal Network\"\n",
    "firewall.read(entity_type, entity_name, EQ)"
   ]
  },
  {
   "cell_type": "code",
   "execution_count": null,
   "metadata": {},
   "outputs": [],
   "source": [
    "# DELETE ENTITY with entity_type \"IPHost\" and Name \"1Internal Network\"\n",
    "entity_type = \"IPHost\"\n",
    "entity_name = \"Internal Network\"\n",
    "firewall.delete(entity_type, entity_name)"
   ]
  },
  {
   "cell_type": "code",
   "execution_count": null,
   "metadata": {},
   "outputs": [],
   "source": [
    "# Print result\n",
    "entity_type = \"IPHost\"\n",
    "entity_name = \"Internal Network\"\n",
    "firewall.read(entity_type, entity_name, EQ)"
   ]
  },
  {
   "cell_type": "code",
   "execution_count": null,
   "metadata": {},
   "outputs": [],
   "source": [
    "# READ settings for ENTITY with entity_type\n",
    "\n",
    "entity_type = \"LocalServiceACL\"\n",
    "\n",
    "response = firewall.read(entity_type)\n",
    "print(f\"Status: {response['status']} | Message: {response['message']} | Data: {response['data'] if response['data'] else 'No data available'}\")\n",
    "\n",
    "# List/Dump single response\n",
    "print(json.dumps(response[\"data\"], indent=4))\n",
    "\n",
    "# List/Dump diction of responses\n",
    "for index, item in enumerate(response[\"data\"], start=1):\n",
    "    print(f\"{index:002}: {item}\")"
   ]
  },
  {
   "cell_type": "code",
   "execution_count": null,
   "metadata": {},
   "outputs": [],
   "source": [
    "for item in open(\"Firewall Entities.csv\", \"r\"):\n",
    "    print(\"\\n\\n\", item, end=\"\")\n",
    "    response = firewall.read(item.strip())\n",
    "    print(f\"Status: {response['status']} | Message: {response['message']} | Data: {response['data'] if response['data'] else 'No data available'}\")\n",
    "\n",
    "    for index, item in enumerate(response[\"data\"], start=1):\n",
    "        print(f\"{index:02}: {item}\")"
   ]
  },
  {
   "cell_type": "code",
   "execution_count": null,
   "metadata": {},
   "outputs": [],
   "source": [
    "# Using context manager\n",
    "#\n",
    "\n",
    "from SophosFirewallAPI import Firewall, EQ, NOT, LIKE\n",
    "\n",
    "with Firewall(username, password, firewall_ip, port=4444, certificate_verify=False, password_encrypted=True) as firewall:\n",
    "    entity_type = \"IPHost\"\n",
    "    entity_name = \"Internet\"\n",
    "\n",
    "    response = firewall.read(entity_type, entity_name)\n",
    "\n",
    "    print(f\"Status: {response['status']} | Message: {response['message']} | Data: {response['data'] if response['data'] else 'No data available'}\")\n",
    "    for index, item in enumerate(response[\"data\"], start=1):\n",
    "        print(f\"{index:03}: {item}\")"
   ]
  }
 ],
 "metadata": {
  "kernelspec": {
   "display_name": "Python 3",
   "language": "python",
   "name": "python3"
  },
  "language_info": {
   "codemirror_mode": {
    "name": "ipython",
    "version": 3
   },
   "file_extension": ".py",
   "mimetype": "text/x-python",
   "name": "python",
   "nbconvert_exporter": "python",
   "pygments_lexer": "ipython3",
   "version": "3.12.6"
  },
  "orig_nbformat": 4
 },
 "nbformat": 4,
 "nbformat_minor": 2
}
